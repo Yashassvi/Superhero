{
  "nbformat": 4,
  "nbformat_minor": 0,
  "metadata": {
    "accelerator": "GPU",
    "colab": {
      "name": "Copy of Superhero Name Generator - Learner.ipynb",
      "provenance": [],
      "collapsed_sections": []
    },
    "kernelspec": {
      "display_name": "Python 3",
      "language": "python",
      "name": "python3"
    },
    "language_info": {
      "codemirror_mode": {
        "name": "ipython",
        "version": 3
      },
      "file_extension": ".py",
      "mimetype": "text/x-python",
      "name": "python",
      "nbconvert_exporter": "python",
      "pygments_lexer": "ipython3",
      "version": "3.8.3"
    }
  },
  "cells": [
    {
      "cell_type": "markdown",
      "metadata": {
        "id": "21XXWP7Fpt2L"
      },
      "source": [
        "# Superhero (and Supervillain) Name Generator\n",
        "\n",
        "---\n",
        "\n",
        "[Superhero Names Dataset](https://github.com/am1tyadav/superhero)"
      ]
    },
    {
      "cell_type": "markdown",
      "metadata": {
        "id": "H6P0NU5Cpt2R"
      },
      "source": [
        "## Task 1\n",
        "\n",
        "1. Import the data\n",
        "2. Create a tokenizer\n",
        "3. Char to index and Index to char dictionaries"
      ]
    },
    {
      "cell_type": "code",
      "metadata": {
        "id": "srULhalZpt2M",
        "colab": {
          "base_uri": "https://localhost:8080/"
        },
        "outputId": "e5311a45-fefe-477d-86bf-c8af5743ec7e"
      },
      "source": [
        "!git clone https://github.com/am1tyadav/superhero"
      ],
      "execution_count": 2,
      "outputs": [
        {
          "output_type": "stream",
          "text": [
            "Cloning into 'superhero'...\n",
            "remote: Enumerating objects: 8, done.\u001b[K\n",
            "remote: Counting objects: 100% (8/8), done.\u001b[K\n",
            "remote: Compressing objects: 100% (7/7), done.\u001b[K\n",
            "remote: Total 8 (delta 0), reused 4 (delta 0), pack-reused 0\u001b[K\n",
            "Unpacking objects: 100% (8/8), done.\n"
          ],
          "name": "stdout"
        }
      ]
    },
    {
      "cell_type": "code",
      "metadata": {
        "id": "uq4CLmsLpt2P",
        "colab": {
          "base_uri": "https://localhost:8080/",
          "height": 35
        },
        "outputId": "5844a330-9018-4648-ec70-1e3fa5c695ac"
      },
      "source": [
        "with open('superhero/superheroes.txt','r')as file:\n",
        "  data=file.read()\n",
        "data[:100]"
      ],
      "execution_count": 3,
      "outputs": [
        {
          "output_type": "execute_result",
          "data": {
            "application/vnd.google.colaboratory.intrinsic+json": {
              "type": "string"
            },
            "text/plain": [
              "'jumpa\\t\\ndoctor fate\\t\\nstarlight\\t\\nisildur\\t\\nlasher\\t\\nvarvara\\t\\nthe target\\t\\naxel\\t\\nbattra\\t\\nchangeling\\t\\npyrrh'"
            ]
          },
          "metadata": {
            "tags": []
          },
          "execution_count": 3
        }
      ]
    },
    {
      "cell_type": "code",
      "metadata": {
        "id": "JqhtLuAHpt2R"
      },
      "source": [
        "import tensorflow as tf\n",
        "tokenizer = tf.keras.preprocessing.text.Tokenizer(\n",
        "    filters='!\"#$%&()*+,-./:;<=>?@[\\\\]^_`{|}~',\n",
        "    split='\\n',\n",
        ")"
      ],
      "execution_count": 4,
      "outputs": []
    },
    {
      "cell_type": "code",
      "metadata": {
        "id": "qYfC4sj2pt2V"
      },
      "source": [
        "tokenizer.fit_on_texts(data)"
      ],
      "execution_count": 5,
      "outputs": []
    },
    {
      "cell_type": "code",
      "metadata": {
        "id": "EO4-dPM6pt2X",
        "colab": {
          "base_uri": "https://localhost:8080/"
        },
        "outputId": "8d4b2f44-7f75-48d6-fb29-1d2d5e30b748"
      },
      "source": [
        "char_to_idx=tokenizer.word_index\n",
        "idx_to_char=dict((v,k) for k,v in char_to_idx.items())\n",
        "print(idx_to_char)"
      ],
      "execution_count": 6,
      "outputs": [
        {
          "output_type": "stream",
          "text": [
            "{1: '\\t', 2: 'a', 3: 'e', 4: 'r', 5: 'o', 6: 'n', 7: 'i', 8: ' ', 9: 't', 10: 's', 11: 'l', 12: 'm', 13: 'h', 14: 'd', 15: 'c', 16: 'u', 17: 'g', 18: 'k', 19: 'b', 20: 'p', 21: 'y', 22: 'w', 23: 'f', 24: 'v', 25: 'j', 26: 'z', 27: 'x', 28: 'q'}\n"
          ],
          "name": "stdout"
        }
      ]
    },
    {
      "cell_type": "markdown",
      "metadata": {
        "id": "SMwtIw_Bpt2Z"
      },
      "source": [
        "## Task 2\n",
        "\n",
        "1. Converting between names and sequences"
      ]
    },
    {
      "cell_type": "code",
      "metadata": {
        "id": "N7iQLIXzpt2a",
        "colab": {
          "base_uri": "https://localhost:8080/"
        },
        "outputId": "13eaf5f8-d12f-479c-aece-5dd82df6b28b"
      },
      "source": [
        "names=data.split('\\n')\n",
        "names[:10]"
      ],
      "execution_count": 7,
      "outputs": [
        {
          "output_type": "execute_result",
          "data": {
            "text/plain": [
              "['jumpa\\t',\n",
              " 'doctor fate\\t',\n",
              " 'starlight\\t',\n",
              " 'isildur\\t',\n",
              " 'lasher\\t',\n",
              " 'varvara\\t',\n",
              " 'the target\\t',\n",
              " 'axel\\t',\n",
              " 'battra\\t',\n",
              " 'changeling\\t']"
            ]
          },
          "metadata": {
            "tags": []
          },
          "execution_count": 7
        }
      ]
    },
    {
      "cell_type": "code",
      "metadata": {
        "id": "n_-TTfqipt2c",
        "colab": {
          "base_uri": "https://localhost:8080/"
        },
        "outputId": "9d38f162-fb34-4531-9f2f-c31688e1f206"
      },
      "source": [
        "tokenizer.texts_to_sequences(names[0])"
      ],
      "execution_count": 8,
      "outputs": [
        {
          "output_type": "execute_result",
          "data": {
            "text/plain": [
              "[[25], [16], [12], [20], [2], [1]]"
            ]
          },
          "metadata": {
            "tags": []
          },
          "execution_count": 8
        }
      ]
    },
    {
      "cell_type": "code",
      "metadata": {
        "id": "P6IsKH1Upt2e"
      },
      "source": [
        "def name_to_seq(name):\n",
        "  return [tokenizer.texts_to_sequences(c)[0][0] for c in name]"
      ],
      "execution_count": 9,
      "outputs": []
    },
    {
      "cell_type": "code",
      "metadata": {
        "id": "TuLUiMP3pt2g",
        "colab": {
          "base_uri": "https://localhost:8080/"
        },
        "outputId": "02dd1934-7ba9-4fab-a0a1-c5acf503a759"
      },
      "source": [
        "name_to_seq(names[0])"
      ],
      "execution_count": 10,
      "outputs": [
        {
          "output_type": "execute_result",
          "data": {
            "text/plain": [
              "[25, 16, 12, 20, 2, 1]"
            ]
          },
          "metadata": {
            "tags": []
          },
          "execution_count": 10
        }
      ]
    },
    {
      "cell_type": "code",
      "metadata": {
        "id": "yFUYhimKpt2h"
      },
      "source": [
        "def seq_to_name(seq):\n",
        "  return ''.join([idx_to_char[i] for i in seq if i!=0])\n"
      ],
      "execution_count": 11,
      "outputs": []
    },
    {
      "cell_type": "code",
      "metadata": {
        "id": "ROhCqmhLpt2k",
        "colab": {
          "base_uri": "https://localhost:8080/",
          "height": 35
        },
        "outputId": "19252c6e-fad4-4985-a549-87dda4f1fed6"
      },
      "source": [
        "seq_to_name(name_to_seq(names[0]))"
      ],
      "execution_count": 12,
      "outputs": [
        {
          "output_type": "execute_result",
          "data": {
            "application/vnd.google.colaboratory.intrinsic+json": {
              "type": "string"
            },
            "text/plain": [
              "'jumpa\\t'"
            ]
          },
          "metadata": {
            "tags": []
          },
          "execution_count": 12
        }
      ]
    },
    {
      "cell_type": "markdown",
      "metadata": {
        "id": "uCbAzsNjpt2m"
      },
      "source": [
        "## Task 3\n",
        "\n",
        "1. Creating sequences\n",
        "2. Padding all sequences"
      ]
    },
    {
      "cell_type": "code",
      "metadata": {
        "id": "zstNn-0dpt2m"
      },
      "source": [
        "sequences=[]\n",
        "for name in names:\n",
        "  seq=name_to_seq(name)\n",
        "  if len(seq)>=2:\n",
        "    sequences += [seq [:i]for i in range(2, len(seq)+1)]\n"
      ],
      "execution_count": 13,
      "outputs": []
    },
    {
      "cell_type": "code",
      "metadata": {
        "id": "BjRTMysvpt2o",
        "colab": {
          "base_uri": "https://localhost:8080/"
        },
        "outputId": "9df32188-737b-4715-b60c-ebcfcc4afcc7"
      },
      "source": [
        "sequences[:10]"
      ],
      "execution_count": 14,
      "outputs": [
        {
          "output_type": "execute_result",
          "data": {
            "text/plain": [
              "[[25, 16],\n",
              " [25, 16, 12],\n",
              " [25, 16, 12, 20],\n",
              " [25, 16, 12, 20, 2],\n",
              " [25, 16, 12, 20, 2, 1],\n",
              " [14, 5],\n",
              " [14, 5, 15],\n",
              " [14, 5, 15, 9],\n",
              " [14, 5, 15, 9, 5],\n",
              " [14, 5, 15, 9, 5, 4]]"
            ]
          },
          "metadata": {
            "tags": []
          },
          "execution_count": 14
        }
      ]
    },
    {
      "cell_type": "code",
      "metadata": {
        "id": "SR68pu2tpt2q",
        "colab": {
          "base_uri": "https://localhost:8080/"
        },
        "outputId": "fbce8978-ae74-4ebf-c115-faca25fc7726"
      },
      "source": [
        "max_len =max(len(x) for x in sequences)\n",
        "print(max_len)"
      ],
      "execution_count": 15,
      "outputs": [
        {
          "output_type": "stream",
          "text": [
            "33\n"
          ],
          "name": "stdout"
        }
      ]
    },
    {
      "cell_type": "code",
      "metadata": {
        "id": "h_1BtWO7pt2r",
        "colab": {
          "base_uri": "https://localhost:8080/"
        },
        "outputId": "65755135-3b4c-44d0-92d5-72f37def9d52"
      },
      "source": [
        "padded_sequences= tf.keras.preprocessing.sequence.pad_sequences(\n",
        "    sequences,padding='pre', maxlen= max_len\n",
        ")\n",
        "print(padded_sequences[0])"
      ],
      "execution_count": 16,
      "outputs": [
        {
          "output_type": "stream",
          "text": [
            "[ 0  0  0  0  0  0  0  0  0  0  0  0  0  0  0  0  0  0  0  0  0  0  0  0\n",
            "  0  0  0  0  0  0  0 25 16]\n"
          ],
          "name": "stdout"
        }
      ]
    },
    {
      "cell_type": "code",
      "metadata": {
        "id": "sPlrLRpSpt2t",
        "colab": {
          "base_uri": "https://localhost:8080/"
        },
        "outputId": "3ec5d638-2018-45cc-e553-b55380f0e330"
      },
      "source": [
        "padded_sequences.shape"
      ],
      "execution_count": 17,
      "outputs": [
        {
          "output_type": "execute_result",
          "data": {
            "text/plain": [
              "(88279, 33)"
            ]
          },
          "metadata": {
            "tags": []
          },
          "execution_count": 17
        }
      ]
    },
    {
      "cell_type": "markdown",
      "metadata": {
        "id": "viwwD4k7EG7Y"
      },
      "source": [
        "## Task 4: Creating Training and Validation Sets\n",
        "\n",
        "1. Creating training and validation sets"
      ]
    },
    {
      "cell_type": "code",
      "metadata": {
        "id": "BE4BIeSnpt2v",
        "colab": {
          "base_uri": "https://localhost:8080/"
        },
        "outputId": "55c2c6fb-2474-4a23-da34-84abb16ff37e"
      },
      "source": [
        "x,y= padded_sequences[:,:-1], padded_sequences[:,-1]\n",
        "print(x.shape, y.shape)"
      ],
      "execution_count": 18,
      "outputs": [
        {
          "output_type": "stream",
          "text": [
            "(88279, 32) (88279,)\n"
          ],
          "name": "stdout"
        }
      ]
    },
    {
      "cell_type": "code",
      "metadata": {
        "id": "A6utuzlQEG7Z",
        "colab": {
          "base_uri": "https://localhost:8080/"
        },
        "outputId": "79bf8f5a-2699-47c4-cf33-83b5002ba640"
      },
      "source": [
        "from sklearn.model_selection import train_test_split\n",
        "x_train,x_test,y_train,y_test=train_test_split(x,y)\n",
        "print(x_train.shape,y_train.shape,x_test.shape,y_test.shape)"
      ],
      "execution_count": 19,
      "outputs": [
        {
          "output_type": "stream",
          "text": [
            "(66209, 32) (66209,) (22070, 32) (22070,)\n"
          ],
          "name": "stdout"
        }
      ]
    },
    {
      "cell_type": "code",
      "metadata": {
        "id": "cgqRZtqnpt2x",
        "colab": {
          "base_uri": "https://localhost:8080/"
        },
        "outputId": "40f85be8-e2d6-4e52-a731-de1d9c61e346"
      },
      "source": [
        "num_char=len(char_to_idx.keys())+1\n",
        "print(num_char)"
      ],
      "execution_count": 20,
      "outputs": [
        {
          "output_type": "stream",
          "text": [
            "29\n"
          ],
          "name": "stdout"
        }
      ]
    },
    {
      "cell_type": "markdown",
      "metadata": {
        "id": "0VcdsiMAEG7Z"
      },
      "source": [
        "## Task 5: Creating the Model"
      ]
    },
    {
      "cell_type": "code",
      "metadata": {
        "id": "glk5e3nHEG7Z",
        "colab": {
          "base_uri": "https://localhost:8080/"
        },
        "outputId": "452913d0-ff2b-4aea-d4f7-a27066dd0595"
      },
      "source": [
        "from tensorflow.keras.models import Sequential\n",
        "from tensorflow.keras.layers import Embedding, Conv1D,MaxPool1D,LSTM,Bidirectional,Dense\n",
        "model=tf.keras.Sequential([\n",
        "                           Embedding(num_char,8,input_length=max_len-1),\n",
        "                           Conv1D(64,5,strides=1,activation='tanh',padding='causal'),\n",
        "                           MaxPool1D(2),\n",
        "                           LSTM(32),\n",
        "                           Dense(num_char,activation='softmax')\n",
        "])\n",
        "model.compile(\n",
        "    loss=\"sparse_categorical_crossentropy\",\n",
        "    optimizer=\"adam\",\n",
        "    metrics=['accuracy']\n",
        ")\n",
        "model.summary()"
      ],
      "execution_count": 35,
      "outputs": [
        {
          "output_type": "stream",
          "text": [
            "Model: \"sequential_4\"\n",
            "_________________________________________________________________\n",
            "Layer (type)                 Output Shape              Param #   \n",
            "=================================================================\n",
            "embedding_4 (Embedding)      (None, 32, 8)             232       \n",
            "_________________________________________________________________\n",
            "conv1d_4 (Conv1D)            (None, 32, 64)            2624      \n",
            "_________________________________________________________________\n",
            "max_pooling1d_4 (MaxPooling1 (None, 16, 64)            0         \n",
            "_________________________________________________________________\n",
            "lstm_6 (LSTM)                (None, 32)                12416     \n",
            "_________________________________________________________________\n",
            "dense_4 (Dense)              (None, 29)                957       \n",
            "=================================================================\n",
            "Total params: 16,229\n",
            "Trainable params: 16,229\n",
            "Non-trainable params: 0\n",
            "_________________________________________________________________\n"
          ],
          "name": "stdout"
        }
      ]
    },
    {
      "cell_type": "markdown",
      "metadata": {
        "id": "sAKe4p5EEG7a"
      },
      "source": [
        "## Task 6: Training the Model"
      ]
    },
    {
      "cell_type": "code",
      "metadata": {
        "id": "j0Ssl4qupt22",
        "colab": {
          "base_uri": "https://localhost:8080/"
        },
        "outputId": "d32ba597-4ef2-4023-d67a-fad303919cd2"
      },
      "source": [
        "model.fit(x_train,y_train,\n",
        "          validation_data=(x_test,y_test),\n",
        "          epochs=50,verbose=2,\n",
        "          callbacks=[tf.keras.callbacks.EarlyStopping(monitor='val_accuracy',patience=3)\n",
        "          ])"
      ],
      "execution_count": 36,
      "outputs": [
        {
          "output_type": "stream",
          "text": [
            "Epoch 1/50\n",
            "2070/2070 - 12s - loss: 2.7436 - accuracy: 0.1905 - val_loss: 2.5787 - val_accuracy: 0.2248\n",
            "Epoch 2/50\n",
            "2070/2070 - 9s - loss: 2.5304 - accuracy: 0.2383 - val_loss: 2.5002 - val_accuracy: 0.2472\n",
            "Epoch 3/50\n",
            "2070/2070 - 9s - loss: 2.4625 - accuracy: 0.2552 - val_loss: 2.4457 - val_accuracy: 0.2642\n",
            "Epoch 4/50\n",
            "2070/2070 - 9s - loss: 2.4164 - accuracy: 0.2674 - val_loss: 2.4161 - val_accuracy: 0.2717\n",
            "Epoch 5/50\n",
            "2070/2070 - 10s - loss: 2.3833 - accuracy: 0.2762 - val_loss: 2.3866 - val_accuracy: 0.2786\n",
            "Epoch 6/50\n",
            "2070/2070 - 10s - loss: 2.3556 - accuracy: 0.2824 - val_loss: 2.3632 - val_accuracy: 0.2824\n",
            "Epoch 7/50\n",
            "2070/2070 - 9s - loss: 2.3300 - accuracy: 0.2891 - val_loss: 2.3457 - val_accuracy: 0.2903\n",
            "Epoch 8/50\n",
            "2070/2070 - 9s - loss: 2.3070 - accuracy: 0.2969 - val_loss: 2.3299 - val_accuracy: 0.2927\n",
            "Epoch 9/50\n",
            "2070/2070 - 9s - loss: 2.2857 - accuracy: 0.3032 - val_loss: 2.3155 - val_accuracy: 0.2977\n",
            "Epoch 10/50\n",
            "2070/2070 - 9s - loss: 2.2659 - accuracy: 0.3094 - val_loss: 2.2996 - val_accuracy: 0.3046\n",
            "Epoch 11/50\n",
            "2070/2070 - 9s - loss: 2.2474 - accuracy: 0.3168 - val_loss: 2.2927 - val_accuracy: 0.3080\n",
            "Epoch 12/50\n",
            "2070/2070 - 10s - loss: 2.2299 - accuracy: 0.3231 - val_loss: 2.2815 - val_accuracy: 0.3121\n",
            "Epoch 13/50\n",
            "2070/2070 - 10s - loss: 2.2133 - accuracy: 0.3270 - val_loss: 2.2676 - val_accuracy: 0.3183\n",
            "Epoch 14/50\n",
            "2070/2070 - 9s - loss: 2.1978 - accuracy: 0.3335 - val_loss: 2.2609 - val_accuracy: 0.3209\n",
            "Epoch 15/50\n",
            "2070/2070 - 9s - loss: 2.1833 - accuracy: 0.3377 - val_loss: 2.2586 - val_accuracy: 0.3244\n",
            "Epoch 16/50\n",
            "2070/2070 - 9s - loss: 2.1704 - accuracy: 0.3429 - val_loss: 2.2528 - val_accuracy: 0.3274\n",
            "Epoch 17/50\n",
            "2070/2070 - 9s - loss: 2.1583 - accuracy: 0.3463 - val_loss: 2.2473 - val_accuracy: 0.3239\n",
            "Epoch 18/50\n",
            "2070/2070 - 9s - loss: 2.1468 - accuracy: 0.3518 - val_loss: 2.2448 - val_accuracy: 0.3295\n",
            "Epoch 19/50\n",
            "2070/2070 - 9s - loss: 2.1363 - accuracy: 0.3535 - val_loss: 2.2410 - val_accuracy: 0.3273\n",
            "Epoch 20/50\n",
            "2070/2070 - 10s - loss: 2.1264 - accuracy: 0.3570 - val_loss: 2.2326 - val_accuracy: 0.3346\n",
            "Epoch 21/50\n",
            "2070/2070 - 10s - loss: 2.1161 - accuracy: 0.3626 - val_loss: 2.2332 - val_accuracy: 0.3384\n",
            "Epoch 22/50\n",
            "2070/2070 - 9s - loss: 2.1083 - accuracy: 0.3663 - val_loss: 2.2304 - val_accuracy: 0.3388\n",
            "Epoch 23/50\n",
            "2070/2070 - 9s - loss: 2.0996 - accuracy: 0.3682 - val_loss: 2.2258 - val_accuracy: 0.3382\n",
            "Epoch 24/50\n",
            "2070/2070 - 9s - loss: 2.0920 - accuracy: 0.3707 - val_loss: 2.2294 - val_accuracy: 0.3406\n",
            "Epoch 25/50\n",
            "2070/2070 - 9s - loss: 2.0833 - accuracy: 0.3733 - val_loss: 2.2229 - val_accuracy: 0.3413\n",
            "Epoch 26/50\n",
            "2070/2070 - 9s - loss: 2.0761 - accuracy: 0.3758 - val_loss: 2.2227 - val_accuracy: 0.3451\n",
            "Epoch 27/50\n",
            "2070/2070 - 10s - loss: 2.0694 - accuracy: 0.3789 - val_loss: 2.2217 - val_accuracy: 0.3451\n",
            "Epoch 28/50\n",
            "2070/2070 - 10s - loss: 2.0630 - accuracy: 0.3808 - val_loss: 2.2209 - val_accuracy: 0.3458\n",
            "Epoch 29/50\n",
            "2070/2070 - 9s - loss: 2.0561 - accuracy: 0.3832 - val_loss: 2.2201 - val_accuracy: 0.3444\n",
            "Epoch 30/50\n",
            "2070/2070 - 10s - loss: 2.0499 - accuracy: 0.3855 - val_loss: 2.2145 - val_accuracy: 0.3474\n",
            "Epoch 31/50\n",
            "2070/2070 - 10s - loss: 2.0441 - accuracy: 0.3872 - val_loss: 2.2152 - val_accuracy: 0.3505\n",
            "Epoch 32/50\n",
            "2070/2070 - 9s - loss: 2.0387 - accuracy: 0.3893 - val_loss: 2.2124 - val_accuracy: 0.3500\n",
            "Epoch 33/50\n",
            "2070/2070 - 9s - loss: 2.0327 - accuracy: 0.3921 - val_loss: 2.2128 - val_accuracy: 0.3504\n",
            "Epoch 34/50\n",
            "2070/2070 - 9s - loss: 2.0277 - accuracy: 0.3924 - val_loss: 2.2153 - val_accuracy: 0.3525\n",
            "Epoch 35/50\n",
            "2070/2070 - 9s - loss: 2.0214 - accuracy: 0.3958 - val_loss: 2.2126 - val_accuracy: 0.3535\n",
            "Epoch 36/50\n",
            "2070/2070 - 9s - loss: 2.0163 - accuracy: 0.3968 - val_loss: 2.2123 - val_accuracy: 0.3545\n",
            "Epoch 37/50\n",
            "2070/2070 - 10s - loss: 2.0119 - accuracy: 0.3994 - val_loss: 2.2123 - val_accuracy: 0.3567\n",
            "Epoch 38/50\n",
            "2070/2070 - 10s - loss: 2.0080 - accuracy: 0.3998 - val_loss: 2.2125 - val_accuracy: 0.3569\n",
            "Epoch 39/50\n",
            "2070/2070 - 9s - loss: 2.0030 - accuracy: 0.4018 - val_loss: 2.2107 - val_accuracy: 0.3569\n",
            "Epoch 40/50\n",
            "2070/2070 - 9s - loss: 1.9985 - accuracy: 0.4015 - val_loss: 2.2126 - val_accuracy: 0.3575\n",
            "Epoch 41/50\n",
            "2070/2070 - 9s - loss: 1.9941 - accuracy: 0.4041 - val_loss: 2.2128 - val_accuracy: 0.3565\n",
            "Epoch 42/50\n",
            "2070/2070 - 9s - loss: 1.9901 - accuracy: 0.4067 - val_loss: 2.2137 - val_accuracy: 0.3554\n",
            "Epoch 43/50\n",
            "2070/2070 - 9s - loss: 1.9866 - accuracy: 0.4060 - val_loss: 2.2176 - val_accuracy: 0.3562\n"
          ],
          "name": "stdout"
        },
        {
          "output_type": "execute_result",
          "data": {
            "text/plain": [
              "<tensorflow.python.keras.callbacks.History at 0x7f6de70f4710>"
            ]
          },
          "metadata": {
            "tags": []
          },
          "execution_count": 36
        }
      ]
    },
    {
      "cell_type": "markdown",
      "metadata": {
        "id": "4McNn4FfEG7a"
      },
      "source": [
        "## Task 7: Generate Names!"
      ]
    },
    {
      "cell_type": "code",
      "metadata": {
        "id": "9f50aTRcpt24"
      },
      "source": [
        "def generate_names(seed):\n",
        "  for i in range(0,40):\n",
        "    seq=name_to_seq(seed)\n",
        "    padded=tf.keras.preprocessing.sequence.pad_sequences([seq], padding='pre',maxlen=max_len-1,\n",
        "                                                         truncating='pre'\n",
        "                                                         )\n",
        "    pred=model.predict(padded)[0]\n",
        "    pred_char=idx_to_char[tf.argmax(pred).numpy()]\n",
        "    seed+= pred_char\n",
        "    if pred_char=='\\t':\n",
        "      break\n",
        "  print(seed)"
      ],
      "execution_count": 37,
      "outputs": []
    },
    {
      "cell_type": "code",
      "metadata": {
        "id": "faQ0FInlpt26",
        "colab": {
          "base_uri": "https://localhost:8080/"
        },
        "outputId": "6197edde-88ac-403d-eb99-6192dfff34c3"
      },
      "source": [
        "generate_names('yash')"
      ],
      "execution_count": 41,
      "outputs": [
        {
          "output_type": "stream",
          "text": [
            "yashian strange\t\n"
          ],
          "name": "stdout"
        }
      ]
    }
  ]
}